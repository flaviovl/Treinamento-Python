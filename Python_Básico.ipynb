{
  "nbformat": 4,
  "nbformat_minor": 0,
  "metadata": {
    "colab": {
      "name": "Python Básico.ipynb",
      "provenance": [],
      "collapsed_sections": [],
      "include_colab_link": true
    },
    "kernelspec": {
      "name": "python3",
      "display_name": "Python 3"
    }
  },
  "cells": [
    {
      "cell_type": "markdown",
      "metadata": {
        "id": "view-in-github",
        "colab_type": "text"
      },
      "source": [
        "<a href=\"https://colab.research.google.com/github/flaviovl/Treinamento-Python/blob/master/Python_B%C3%A1sico.ipynb\" target=\"_parent\"><img src=\"https://colab.research.google.com/assets/colab-badge.svg\" alt=\"Open In Colab\"/></a>"
      ]
    },
    {
      "cell_type": "markdown",
      "metadata": {
        "id": "YcywgLpQZMdX",
        "colab_type": "text"
      },
      "source": [
        "# Python \n"
      ]
    },
    {
      "cell_type": "markdown",
      "metadata": {
        "id": "s_qCPlcmZST6",
        "colab_type": "text"
      },
      "source": [
        "Criada por Guido Van Rossum February 1991, é uma linguagem interpretada que visa a fácil leitura e aprendizagem, facilitando a manutenção.\n",
        "\n",
        "Tem destaque nas áreas de Web (frameworks como **Django**, **Flask**), Data Science (com bibliotecas **Numpy**, **Matplotlib**, **Keras**), e outras.\n",
        "\n"
      ]
    },
    {
      "cell_type": "markdown",
      "metadata": {
        "id": "a0Ucu5t3qFOM",
        "colab_type": "text"
      },
      "source": [
        "Dito antes, Python é uma linguagem interpretada, ou seja, em tempo de execução, o código é lido e executado pelo **interpretador**, que transforma para linguagem de máquina e assim é executado. Diferentemente do **C/C++** , linguagem compilada, onde primeiro se transforma o código em linguagem de máquina, por meio do **compilador** gerando um arquivo binário, e após executa-se esse arquivo. \n",
        "\n",
        "Esse processo de leitura e execução pelo **interpretador** é mais lento que um compilador, porém somente a compilação pode demorar.\n",
        "\n",
        "## Outras características de Python e C/C++:\n",
        "\n",
        "Python \n",
        "* **Forte** (Strong): restringe mudanças de tipo, proibindo *cast*.\n",
        "* **Inferido** (Inferred): os tipos das variáveis são determinadas pelo contexto.\n",
        "* **Dinâmico** (Dynamic): a verificação dos tipos de variáveis ocorre em *run time*.\n",
        "* **Insegura** (Unsafe): não ocorre proibições de operações que possam levar a ***undefined behavior*** ou ***errors***.\n",
        "\n",
        "\n",
        "C/C++\n",
        "* **Forte** (Strong)\n",
        "* **Manifestado** (Manifest): os tipos de variáveis são explicitamente definidos.\n",
        "* **Estático** (Static): a verificação dos tipos de variáveis ocorre antes de rodar o código (ao compilar).\n",
        "* **Insegura** (Unsafe)"
      ]
    },
    {
      "cell_type": "markdown",
      "metadata": {
        "id": "AaImkrlLR2Py",
        "colab_type": "text"
      },
      "source": [
        "# 1. Tipos e Variáveis\n"
      ]
    },
    {
      "cell_type": "markdown",
      "metadata": {
        "id": "-Fd-DAsU59YM",
        "colab_type": "text"
      },
      "source": [
        "\n",
        "O Python é uma linguagem interpretada, ou seja, enquanto roda o programa, ele interpreta qual é o tipo da variável utilizada.\n",
        "Um exemplo, se eu faço uma soma simples de dois números **inteiros** (1+2), isso resulta em um outro número inteiro (1+2 = 3).\n",
        "Caso eu divida dois inteiros **(5/2)** e essa divisão resultar em um número racional (2.5), esse valor deve ser armazenado em um tipo de variável não inteira.\n",
        "\n",
        "Em caso de palavras, as variáveis são armazenadas de outra maneira.\n",
        "\n"
      ]
    },
    {
      "cell_type": "markdown",
      "metadata": {
        "id": "2IJLmZsPw9ck",
        "colab_type": "text"
      },
      "source": [
        "## Tipos Numéricos\n",
        "\n",
        "* [int](https://docs.python.org/3/library/functions.html#int)\n",
        "* [float](https://docs.python.org/3/library/functions.html#float)\n",
        "* [double](http://excript.com/python/tipos-de-dados-python.html)\n"
      ]
    },
    {
      "cell_type": "code",
      "metadata": {
        "id": "JJaOuMo4yRCv",
        "colab_type": "code",
        "outputId": "d7af69e1-b17f-44b0-ee62-ab4307df7891",
        "colab": {
          "base_uri": "https://localhost:8080/",
          "height": 52
        }
      },
      "source": [
        "print(1 + 2) # soma de inteiros (1+2=3)\n",
        "type(1 + 2) # retorna o tipo do valor\n"
      ],
      "execution_count": 0,
      "outputs": [
        {
          "output_type": "stream",
          "text": [
            "3\n"
          ],
          "name": "stdout"
        },
        {
          "output_type": "execute_result",
          "data": {
            "text/plain": [
              "int"
            ]
          },
          "metadata": {
            "tags": []
          },
          "execution_count": 16
        }
      ]
    },
    {
      "cell_type": "code",
      "metadata": {
        "id": "JrFdJ3_Yy7T1",
        "colab_type": "code",
        "outputId": "17c5ad30-2478-4602-a1f7-5cb05d3bf151",
        "colab": {
          "base_uri": "https://localhost:8080/",
          "height": 52
        }
      },
      "source": [
        "print(5/2) # ponto flutuante\n",
        "type(5/2)"
      ],
      "execution_count": 0,
      "outputs": [
        {
          "output_type": "stream",
          "text": [
            "2.5\n"
          ],
          "name": "stdout"
        },
        {
          "output_type": "execute_result",
          "data": {
            "text/plain": [
              "float"
            ]
          },
          "metadata": {
            "tags": []
          },
          "execution_count": 4
        }
      ]
    },
    {
      "cell_type": "markdown",
      "metadata": {
        "id": "TjXbs1Z8M2Ta",
        "colab_type": "text"
      },
      "source": [
        "Para transformar um tipo de variável em outro basta usar função `int()` ou `float()`"
      ]
    },
    {
      "cell_type": "code",
      "metadata": {
        "id": "uxqxyCh4O2dd",
        "colab_type": "code",
        "outputId": "a91a283f-97da-41c4-e137-5a9df1afb184",
        "colab": {
          "base_uri": "https://localhost:8080/",
          "height": 52
        }
      },
      "source": [
        "a = 1\n",
        "print(type(a))\n",
        "a = float(a) # transforma a variavel a em um ponto flutuante\n",
        "print(type(a))"
      ],
      "execution_count": 0,
      "outputs": [
        {
          "output_type": "stream",
          "text": [
            "<class 'int'>\n",
            "<class 'float'>\n"
          ],
          "name": "stdout"
        }
      ]
    },
    {
      "cell_type": "code",
      "metadata": {
        "id": "WwqwuGzYPSDf",
        "colab_type": "code",
        "outputId": "55a83698-c4ec-46b3-d451-2d8d6ed493be",
        "colab": {
          "base_uri": "https://localhost:8080/",
          "height": 52
        }
      },
      "source": [
        "a = 4.7\n",
        "print(type(a))\n",
        "a = int(a) # transforma a variavel a em um ponto flutuante\n",
        "print(a, type(a)) # Aqui ele irá imprimir somente a parte inteira do numero original"
      ],
      "execution_count": 0,
      "outputs": [
        {
          "output_type": "stream",
          "text": [
            "<class 'float'>\n",
            "4 <class 'int'>\n"
          ],
          "name": "stdout"
        }
      ]
    },
    {
      "cell_type": "markdown",
      "metadata": {
        "id": "NHgG1PTz0a4v",
        "colab_type": "text"
      },
      "source": [
        "## Tipo de Texto\n",
        "   \n",
        "*   [string](https://docs.python.org/3/library/stdtypes.html#text-sequence-type-str)\n",
        "\n",
        "String é um conjunto de caracteres. Em Python, ela pode ser escrita com aspas simples (`'foo'`), ou aspas duplas (`\"bar\"`)\n"
      ]
    },
    {
      "cell_type": "code",
      "metadata": {
        "id": "AGgZu4dmK_oj",
        "colab_type": "code",
        "outputId": "a4bfb94b-b3b3-4368-c41a-cd77b5bfe9ad",
        "colab": {
          "base_uri": "https://localhost:8080/",
          "height": 52
        }
      },
      "source": [
        "a = \"foo\"\n",
        "b = 'bar'\n",
        "print(a, type(a))\n",
        "print(b, type(b))"
      ],
      "execution_count": 0,
      "outputs": [
        {
          "output_type": "stream",
          "text": [
            "foo <class 'str'>\n",
            "bar <class 'str'>\n"
          ],
          "name": "stdout"
        }
      ]
    },
    {
      "cell_type": "markdown",
      "metadata": {
        "id": "r2DHLfBLSebW",
        "colab_type": "text"
      },
      "source": [
        "Existem alguns métodos para manipulação de strings que são interessantes. Alguns deles listados abaixo\n",
        "\n",
        "\n",
        "*   `.upper()`: torna todas as letras da string em maiúscula \n",
        "*   `.lower()`: torna todas as letras em minúsculas\n",
        "*   `.split(s)`: transforma a string em lista, dividindo de acordo com o separador passado (s)\n",
        "*   `.strip(c)` :retorna a string sem o(s) caracter(es) c\n",
        "\n"
      ]
    },
    {
      "cell_type": "code",
      "metadata": {
        "id": "_iEGT3t1T_2U",
        "colab_type": "code",
        "outputId": "a4e36797-fd8c-4a7f-e395-f9da9290e54c",
        "colab": {
          "base_uri": "https://localhost:8080/",
          "height": 52
        }
      },
      "source": [
        "a = \"de minusculo para maiusculo\"\n",
        "a = a.upper()\n",
        "print(a)\n",
        "\n",
        "# outro modo de converter\n",
        "b = \"outra frase minuscula\".upper()\n",
        "print(b)"
      ],
      "execution_count": 0,
      "outputs": [
        {
          "output_type": "stream",
          "text": [
            "DE MINUSCULO PARA MAIUSCULO\n",
            "OUTRA FRASE MINUSCULA\n"
          ],
          "name": "stdout"
        }
      ]
    },
    {
      "cell_type": "code",
      "metadata": {
        "id": "6xsXxESEUwc1",
        "colab_type": "code",
        "outputId": "32e5a5e5-1ff6-451b-de8e-edc4cc29ec05",
        "colab": {
          "base_uri": "https://localhost:8080/",
          "height": 52
        }
      },
      "source": [
        "c = \"o rATO rOEU A ROUpa do Rei de ROMA\"\n",
        "c = c.lower()\n",
        "print(c)\n",
        "\n",
        "# outro modo de converter\n",
        "d = \"ARARA\".lower()\n",
        "print(d)"
      ],
      "execution_count": 0,
      "outputs": [
        {
          "output_type": "stream",
          "text": [
            "o rato roeu a roupa do rei de roma\n",
            "arara\n"
          ],
          "name": "stdout"
        }
      ]
    },
    {
      "cell_type": "code",
      "metadata": {
        "id": "qDqT4pVJVkGv",
        "colab_type": "code",
        "outputId": "64ca9969-7669-4b5d-da1e-d87891b35c5e",
        "colab": {
          "base_uri": "https://localhost:8080/",
          "height": 34
        }
      },
      "source": [
        "t = \"Irineu, você não sabe nem eu\"\n",
        "print(t.split(\" \")) # transforma em lista a string, separando os itens por espaço"
      ],
      "execution_count": 0,
      "outputs": [
        {
          "output_type": "stream",
          "text": [
            "['Irineu,', 'você', 'não', 'sabe', 'nem', 'eu']\n"
          ],
          "name": "stdout"
        }
      ]
    },
    {
      "cell_type": "code",
      "metadata": {
        "id": "MAg2GheVjP-E",
        "colab_type": "code",
        "outputId": "998d1baa-b45d-45ff-f825-1ccb03b366e8",
        "colab": {
          "base_uri": "https://localhost:8080/",
          "height": 34
        }
      },
      "source": [
        "nome = \"Bruna\"\n",
        "sobrenome = \"Pinos\"\n",
        "\n",
        "nome_completo = nome + \" \" + sobrenome\n",
        "\n",
        "print(nome_completo)"
      ],
      "execution_count": 0,
      "outputs": [
        {
          "output_type": "stream",
          "text": [
            "Bruna Pinos\n"
          ],
          "name": "stdout"
        }
      ]
    },
    {
      "cell_type": "markdown",
      "metadata": {
        "id": "J2PnpGjNXe1S",
        "colab_type": "text"
      },
      "source": [
        "## Booleano\n",
        " \n",
        " Para declarar uma variável booleana deve usar as palavras reservadas `True` e `False`, e as operações com essas são:\n",
        " \n",
        "\n",
        "*   `and`\n",
        "*   `or`\n",
        "*   `not`\n",
        "\n"
      ]
    },
    {
      "cell_type": "code",
      "metadata": {
        "id": "UXR5ZNj5ZW__",
        "colab_type": "code",
        "outputId": "e62e76d3-3469-4268-f9b4-e2a5d47ab018",
        "colab": {
          "base_uri": "https://localhost:8080/",
          "height": 69
        }
      },
      "source": [
        "v = True\n",
        "f = False\n",
        "print(v and f)\n",
        "print(v or f)\n",
        "print(not v)"
      ],
      "execution_count": 0,
      "outputs": [
        {
          "output_type": "stream",
          "text": [
            "False\n",
            "True\n",
            "False\n"
          ],
          "name": "stdout"
        }
      ]
    },
    {
      "cell_type": "markdown",
      "metadata": {
        "id": "WihUXB80Zsuq",
        "colab_type": "text"
      },
      "source": [
        "## Listas\n",
        "\n",
        "Uma [lista](https://docs.python.org/3/library/stdtypes.html#lists) pode ser declarada de algumas maneiras:\n",
        "\n",
        "*   Colchetes vazios para criar uma lista vazia: `[]`\n",
        "\n",
        "*   Elementos dentro de colchetes, separados por virgula: `[a]`, `[a, b, c]`\n",
        "\n",
        "*   Pegando elementos: `[x for x in iterable]`\n",
        "\n",
        "*   Usando o construtor da classe `list`: `list(1, 2)`\n",
        "\n",
        "\n",
        "A lista possui funções para inserção, remoção e também acesso de elementos:\n",
        "\n",
        "*   `.append(e)` : insere no final da lista o elemento `e`\n",
        "*   `.insert(pos, e)`: insere na posição `pos` da lista o elemento `e`\n",
        "*    `.pop()`: retira o último elemento da lista\n",
        "*    `.remove(e)`: deleta a primeira ocorrência do elemento `e`\n",
        "\n",
        "Lembrando que o primeiro elemento da lista é o 0, logo a contagem dos elementos é feita iniciando em 0.\n",
        "\n"
      ]
    },
    {
      "cell_type": "code",
      "metadata": {
        "id": "R6mIyoOCbOvd",
        "colab_type": "code",
        "outputId": "949d93fe-0f75-4493-f4ae-10d291d6f0bb",
        "colab": {
          "base_uri": "https://localhost:8080/",
          "height": 156
        }
      },
      "source": [
        "l = [1, 2 , 3, \"quatro\"]\n",
        "l.insert(1, \"dois\")\n",
        "print(\"Adiciona na posição 1 o valor 'dois'\", l)\n",
        "\n",
        "l.append(5)\n",
        "print(\"Adiciona na última posição o valor 5\",l)\n",
        "\n",
        "l.pop()\n",
        "print(\"Retira o último valor da lista\", l)\n",
        "\n",
        "l.append(\"6\")\n",
        "l.append(1)\n",
        "print(l)\n",
        "\n",
        "l.remove(1)\n",
        "print(\"Remove a primeira ocorrência de 1\", l)\n",
        "\n",
        "print(\"Mostrando acesso direto\", l)\n",
        "print(\"Primeiro elemento da lista: \", l[0]) # Acessando o elemento diretamente\n",
        "print(\"Terceiro elemento da lista: \", l[2])\n",
        "\n"
      ],
      "execution_count": 0,
      "outputs": [
        {
          "output_type": "stream",
          "text": [
            "Adiciona na posição 1 o valor 'dois' [1, 'dois', 2, 3, 'quatro']\n",
            "Adiciona na última posição o valor 5 [1, 'dois', 2, 3, 'quatro', 5]\n",
            "Retira o último valor da lista [1, 'dois', 2, 3, 'quatro']\n",
            "[1, 'dois', 2, 3, 'quatro', '6', 1]\n",
            "Remove a primeira ocorrência de 1 ['dois', 2, 3, 'quatro', '6', 1]\n",
            "Mostrando acesso direto ['dois', 2, 3, 'quatro', '6', 1]\n",
            "Primeiro elemento da lista:  dois\n",
            "Terceiro elemento da lista:  3\n"
          ],
          "name": "stdout"
        }
      ]
    },
    {
      "cell_type": "markdown",
      "metadata": {
        "id": "nYCv7njgRHww",
        "colab_type": "text"
      },
      "source": [
        "# 2. Entradas e Saídas"
      ]
    },
    {
      "cell_type": "markdown",
      "metadata": {
        "id": "sl9HfantR2ho",
        "colab_type": "text"
      },
      "source": [
        "A entrada de um valor pelo usuário em Python é feita pela função `input`, que retorna a string digitada pelo usuário. Caso esteja esperando a entrada de outro tipo, deve-se usar os métodos de conversão comentados acima."
      ]
    },
    {
      "cell_type": "code",
      "metadata": {
        "id": "H2w8PSueRA9U",
        "colab_type": "code",
        "outputId": "0a2525bc-e718-455c-d32c-3fd54f1196f7",
        "colab": {
          "base_uri": "https://localhost:8080/",
          "height": 52
        }
      },
      "source": [
        "entrada = input(\"Digite a sua idade: \")\n",
        "type(entrada)\n",
        "idade = int(entrada)\n",
        "print(idade, type(idade))"
      ],
      "execution_count": 0,
      "outputs": [
        {
          "output_type": "stream",
          "text": [
            "Digite a sua idade: 21\n",
            "21 <class 'int'>\n"
          ],
          "name": "stdout"
        }
      ]
    },
    {
      "cell_type": "code",
      "metadata": {
        "id": "HXal4SCTh6pV",
        "colab_type": "code",
        "outputId": "19d82729-2d81-4bb6-dc31-5b824984fd7f",
        "colab": {
          "base_uri": "https://localhost:8080/",
          "height": 52
        }
      },
      "source": [
        "# usa a função split para separar os nomes que o usuário digitou e cria uma lista\n",
        "nomes_de_cachorros = input(\"Digite nomes de cachorro: \").split(\" \")\n",
        "print(nomes_de_cachorros)"
      ],
      "execution_count": 0,
      "outputs": [
        {
          "output_type": "stream",
          "text": [
            "Digite nomes de cachorro: Nina, Edith, Cozete\n",
            "['Nina,', 'Edith,', 'Cozete']\n"
          ],
          "name": "stdout"
        }
      ]
    },
    {
      "cell_type": "code",
      "metadata": {
        "id": "_bjMeSWwtoCF",
        "colab_type": "code",
        "outputId": "59d23841-4449-4210-b714-bf68ac936639",
        "colab": {
          "base_uri": "https://localhost:8080/",
          "height": 52
        }
      },
      "source": [
        "gasolina = float(input(\"Me diga o preço da gasolina: \"))\n",
        "print(gasolina, type(gasolina))"
      ],
      "execution_count": 0,
      "outputs": [
        {
          "output_type": "stream",
          "text": [
            "Me diga o preço da gasolina: 4.19\n",
            "4.19 <class 'float'>\n"
          ],
          "name": "stdout"
        }
      ]
    },
    {
      "cell_type": "markdown",
      "metadata": {
        "id": "HnZc1eAhi8Wn",
        "colab_type": "text"
      },
      "source": [
        "A para mostrar um valor ao usuário, utiliza-se a função `print()`. Esta, mostrará o valor passado adicionando uma quebra de linha.\n",
        "\n",
        "Para a junção de textos e variavéis, usa-se o `.format(v)`, onde `v` é a variável que se deseja mostrar juntamente com o texto"
      ]
    },
    {
      "cell_type": "code",
      "metadata": {
        "id": "VW3sZVk6j6OS",
        "colab_type": "code",
        "outputId": "bef14255-b1a2-4ad0-fd6e-6f307dfe9666",
        "colab": {
          "base_uri": "https://localhost:8080/",
          "height": 69
        }
      },
      "source": [
        "hora = 14\n",
        "minuto = 30\n",
        "\n",
        "print(hora, minuto)\n",
        "print(hora, \"e\", minuto)\n",
        "print(\"São {} e {} minutos\".format(hora,minuto))"
      ],
      "execution_count": 0,
      "outputs": [
        {
          "output_type": "stream",
          "text": [
            "14 30\n",
            "14 e 30\n",
            "São 14 e 30 minutos\n"
          ],
          "name": "stdout"
        }
      ]
    },
    {
      "cell_type": "markdown",
      "metadata": {
        "id": "2znxIse7kYL5",
        "colab_type": "text"
      },
      "source": [
        "# 3. Estruturas Condicionais e de Repetição"
      ]
    },
    {
      "cell_type": "markdown",
      "metadata": {
        "id": "UA1hrEjOkl4H",
        "colab_type": "text"
      },
      "source": [
        "## Condicionais\n",
        "\n",
        "Condicionais são estruturas que representam caminhos a serem tomados a partir de uma condição imposta.\n",
        "\n",
        "Um exemplo pode ser o ato de beber legalmente:\n",
        "    \n",
        "    Se você tem idade maior ou igual à 18 anos, então você pode beber legalmente.\n",
        " \n",
        "E essas condições podem se acumular. Seguindo o exemplo:\n",
        "\n",
        "    Caso a idade seja menor que 18 anos, não pode beber legalmente.\n",
        "    \n",
        "    Ou se for idoso, não é recomendado beber\n",
        " \n",
        " \n",
        " Para traduzir isso em código, usa-se a estrutura `if .. else`."
      ]
    },
    {
      "cell_type": "markdown",
      "metadata": {
        "id": "nL_XxKfRnGe2",
        "colab_type": "text"
      },
      "source": [
        "A estrutura do `if .. else` é a feita usando a palavra reservada `if` seguida do parenteses que contem a condição e dois pontos (`:`), e o que se deve realizar. Os `elif`, são condições adicionais a primeira, que tem respostas diferentes. O `else` é o que ocorre quando nenhuma condição é estabelicida, e é opcional.\n",
        "\n",
        " **Obs**: deve-se notar a identação do código. Python é uma linguagem estruturada em identação, logo as condições, e funções deve ter sua implementação identada."
      ]
    },
    {
      "cell_type": "code",
      "metadata": {
        "id": "_qcGjk0Jmu5L",
        "colab_type": "code",
        "outputId": "71fc7767-0236-4e10-adb3-afad36ad1cfe",
        "colab": {
          "base_uri": "https://localhost:8080/",
          "height": 34
        }
      },
      "source": [
        "# Altere as idades e veja os diferentes resultados\n",
        "idade = 18\n",
        "\n",
        "if(idade >= 18 and idade < 60):\n",
        "    print(\"AEHH!! Já pode beber!!\")\n",
        "elif(idade >= 60):\n",
        "    print(\"Acho que é melhor você não beber\")\n",
        "else:\n",
        "    print(\"Você é muito novo pra beber :(\")"
      ],
      "execution_count": 0,
      "outputs": [
        {
          "output_type": "stream",
          "text": [
            "AEHH!! Já pode beber!!\n"
          ],
          "name": "stdout"
        }
      ]
    },
    {
      "cell_type": "markdown",
      "metadata": {
        "id": "yZ40vn8SxdBC",
        "colab_type": "text"
      },
      "source": [
        "## Repetição\n",
        "\n",
        "Para descrever uma ação que se repete com determinada frequência ou enquanto uma condição não foi resolvida, aplica-se as estruturas `for` ou `while`. "
      ]
    },
    {
      "cell_type": "markdown",
      "metadata": {
        "id": "XxtIRIF2y1N-",
        "colab_type": "text"
      },
      "source": [
        "A estrutura `for` é construida da seguinte maneira:\n",
        "\n",
        "```\n",
        "for iterador in sequencia:\n",
        "    ação a ser tomada\n",
        "   \n",
        "```\n",
        "\n",
        "Por exemplo, você quer percorrer por todos os elementos de uma lista de nomes de animais, e quer mostrar os nomes."
      ]
    },
    {
      "cell_type": "code",
      "metadata": {
        "id": "eQ5VXkgR2m81",
        "colab_type": "code",
        "outputId": "59650e13-5871-45c9-900c-6203e09aaada",
        "colab": {
          "base_uri": "https://localhost:8080/",
          "height": 121
        }
      },
      "source": [
        "nomes_animais = [\"Antonieta\", \"Edith\", \"Nina\", \"Louis\", \"Cacau\", \"Nico\"]\n",
        "\n",
        "# O for vai percorrer e pegar cada nome dentro da lista nomes_animais\n",
        "for nome in nomes_animais:\n",
        "    print(nome)"
      ],
      "execution_count": 0,
      "outputs": [
        {
          "output_type": "stream",
          "text": [
            "Antonieta\n",
            "Edith\n",
            "Nina\n",
            "Louis\n",
            "Cacau\n",
            "Nico\n"
          ],
          "name": "stdout"
        }
      ]
    },
    {
      "cell_type": "markdown",
      "metadata": {
        "id": "co-kbVyx3hCJ",
        "colab_type": "text"
      },
      "source": [
        "Para percorrer todos os caracteres de uma string:"
      ]
    },
    {
      "cell_type": "code",
      "metadata": {
        "id": "Xg3Jbf853nVW",
        "colab_type": "code",
        "outputId": "9faa085c-7eec-48b7-a126-95aeb0057387",
        "colab": {
          "base_uri": "https://localhost:8080/",
          "height": 104
        }
      },
      "source": [
        "vogais = \"AEIOU\"\n",
        "for vogal in vogais:\n",
        "    print(vogal)"
      ],
      "execution_count": 0,
      "outputs": [
        {
          "output_type": "stream",
          "text": [
            "A\n",
            "E\n",
            "I\n",
            "O\n",
            "U\n"
          ],
          "name": "stdout"
        }
      ]
    },
    {
      "cell_type": "markdown",
      "metadata": {
        "id": "ewqf96SO3yT7",
        "colab_type": "text"
      },
      "source": [
        "Também pode-se criar um laço de repetição dentro de um intervalo de valor, como fazer a soma dos números de 1 a 10. Para isso, precisa usar a função `range()`"
      ]
    },
    {
      "cell_type": "code",
      "metadata": {
        "id": "IdmxXUxj3_8l",
        "colab_type": "code",
        "outputId": "3a0d00b9-908d-406f-9a09-811833f003bc",
        "colab": {
          "base_uri": "https://localhost:8080/",
          "height": 191
        }
      },
      "source": [
        "soma = 0 \n",
        "\n",
        "for numero in range(1,10):\n",
        "    print(\"Somando {}\".format(numero))\n",
        "    soma = soma + numero\n",
        "    \n",
        "print(\"Resultado da soma dos números de 1 a 10: \", soma)"
      ],
      "execution_count": 0,
      "outputs": [
        {
          "output_type": "stream",
          "text": [
            "Somando 1\n",
            "Somando 2\n",
            "Somando 3\n",
            "Somando 4\n",
            "Somando 5\n",
            "Somando 6\n",
            "Somando 7\n",
            "Somando 8\n",
            "Somando 9\n",
            "Resultado da soma dos números de 1 a 10:  45\n"
          ],
          "name": "stdout"
        }
      ]
    },
    {
      "cell_type": "markdown",
      "metadata": {
        "id": "GgC900fw6FUZ",
        "colab_type": "text"
      },
      "source": [
        "Já o laço `while` ocorre enquanto a condição estabelecida não acontecer.\n",
        "Ele é escrito dessa maneira:\n",
        "\n",
        "```\n",
        "while condição:\n",
        "    alguma ação\n",
        "```\n",
        "\n",
        "Caos eu queria mostrar o que João está fazendo enquanto ele está em horário de trabalho, sendo que ele começa as 8h e sai as 18h:"
      ]
    },
    {
      "cell_type": "code",
      "metadata": {
        "id": "Z-0fgwNh_F8S",
        "colab_type": "code",
        "outputId": "820b36ef-acb8-4675-88a9-67d9de69fca9",
        "colab": {
          "base_uri": "https://localhost:8080/",
          "height": 208
        }
      },
      "source": [
        "horario = 8\n",
        "\n",
        "while horario <= 18:\n",
        "    if(horario == 18):\n",
        "        print(\"São 18 horas e o João já saiu do trabalho\")\n",
        "    else:\n",
        "        print(\"São {} horas e João tá trabalhando\".format(horario))\n",
        "    \n",
        "    horario = horario + 1\n",
        "    \n",
        "    "
      ],
      "execution_count": 0,
      "outputs": [
        {
          "output_type": "stream",
          "text": [
            "São 8 horas e João tá trabalhando\n",
            "São 9 horas e João tá trabalhando\n",
            "São 10 horas e João tá trabalhando\n",
            "São 11 horas e João tá trabalhando\n",
            "São 12 horas e João tá trabalhando\n",
            "São 13 horas e João tá trabalhando\n",
            "São 14 horas e João tá trabalhando\n",
            "São 15 horas e João tá trabalhando\n",
            "São 16 horas e João tá trabalhando\n",
            "São 17 horas e João tá trabalhando\n",
            "São 18 horas e o João já saiu do trabalho\n"
          ],
          "name": "stdout"
        }
      ]
    },
    {
      "cell_type": "markdown",
      "metadata": {
        "id": "lpXgcqhFAjwz",
        "colab_type": "text"
      },
      "source": [
        "# 4. Funções"
      ]
    },
    {
      "cell_type": "markdown",
      "metadata": {
        "id": "cwZ0k9EnA3T5",
        "colab_type": "text"
      },
      "source": [
        "Funções são unidade código que contém uma série de instruções. Declaramos funções para evitar repetição de código e modularizá-lo.\n",
        "\n",
        "E python funções são declaradas com `def` no inicio, seguido do nome e os parametros recebidos por essas, e em seguida as instruções. Ela pode retornar um valor após as instruções realizadas."
      ]
    },
    {
      "cell_type": "markdown",
      "metadata": {
        "id": "VGck2zGNCrBv",
        "colab_type": "text"
      },
      "source": [
        "Digamos que se quer calcular a área e o perimetro de um retângulo qualquer e para isso o usuário entra com os valores das arestas. Logo teremos uma função para cálculo da aŕea e outra para perímetro, e cada uma delas retorna o valor calculado."
      ]
    },
    {
      "cell_type": "code",
      "metadata": {
        "id": "95NAuwfaD7q0",
        "colab_type": "code",
        "outputId": "faa35f2a-7190-4e8e-8170-67b8d766e28c",
        "colab": {
          "base_uri": "https://localhost:8080/",
          "height": 69
        }
      },
      "source": [
        "def calculo_area(base, altura):\n",
        "    area =  base * altura\n",
        "    return area\n",
        "\n",
        "def calculo_perimetro(aresta1, aresta2):\n",
        "    perimetro = (2 * aresta1) + (2 * aresta2)\n",
        "    return perimetro\n",
        "\n",
        "# Recebendo os valores do usuário em forma de lista de strings\n",
        "arestas = input(\"Digite os valores das arestas: \").split(\" \")\n",
        "\n",
        "# convertendo de string para int\n",
        "aresta1 = int(arestas[0])\n",
        "aresta2 = int(arestas[1])\n",
        "\n",
        "# para chamar a função declarada\n",
        "area = calculo_area(aresta1, aresta2)\n",
        "perimetro = calculo_perimetro(aresta1, aresta2)\n",
        "\n",
        "print(\"O valor da area é: \", area)\n",
        "print(\"O valor do perimetro é: \", perimetro)"
      ],
      "execution_count": 0,
      "outputs": [
        {
          "output_type": "stream",
          "text": [
            "Digite os valores das arestas: 10 20\n",
            "O valor da area é:  200\n",
            "O valor do perimetro é:  60\n"
          ],
          "name": "stdout"
        }
      ]
    },
    {
      "cell_type": "markdown",
      "metadata": {
        "id": "gLWwuWRE5pcA",
        "colab_type": "text"
      },
      "source": [
        "# Referências\n"
      ]
    },
    {
      "cell_type": "markdown",
      "metadata": {
        "id": "c77z5dxLtptK",
        "colab_type": "text"
      },
      "source": [
        "https://stackoverflow.com/questions/3265357/compiled-vs-interpreted-languages\n",
        "\n",
        "https://en.wikipedia.org/wiki/Python_(programming_language)\n",
        "\n",
        "https://www.techbeamers.com/python-tutorial-step-by-step/\n",
        "\n",
        "http://www.cplusplus.com/info/description/\n",
        "\n",
        "http://excript.com/python/tipos-de-dados-python.html\n",
        "\n",
        "https://www.urionlinejudge.com.br/judge/pt/problems/view/2581\n",
        "\n",
        "https://www.urionlinejudge.com.br/judge/pt/problems/view/1061\n",
        "\n",
        "https://www.urionlinejudge.com.br/judge/pt/problems/view/2930\n",
        "\n",
        "https://www.urionlinejudge.com.br/judge/pt/problems/view/1847"
      ]
    }
  ]
}